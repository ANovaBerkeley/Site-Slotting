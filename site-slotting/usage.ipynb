{
 "cells": [
  {
   "cell_type": "code",
   "execution_count": 1,
   "metadata": {},
   "outputs": [],
   "source": [
    "from algorithm import matching"
   ]
  },
  {
   "cell_type": "markdown",
   "metadata": {},
   "source": [
    "### Use this notebook to run Site Slotting Tool\n",
    "\n",
    "Note: You may need to change \n",
    "1. Source code in `algorithm.py` if OpenAI API spec changes.\n",
    "2. Prompt in `algorithm.py` if the Google Forms-generated CSV differs a lot from 2023."
   ]
  },
  {
   "cell_type": "code",
   "execution_count": 2,
   "metadata": {},
   "outputs": [],
   "source": [
    "# Put OpenAI API key here\n",
    "api_key = \"\""
   ]
  },
  {
   "cell_type": "code",
   "execution_count": 3,
   "metadata": {},
   "outputs": [],
   "source": [
    "# Put path to CSV here\n",
    "csv_path = \"anonymized_data_features.csv\""
   ]
  },
  {
   "cell_type": "code",
   "execution_count": 4,
   "metadata": {},
   "outputs": [],
   "source": [
    "results = matching(csv_path, api_key)"
   ]
  },
  {
   "cell_type": "code",
   "execution_count": 5,
   "metadata": {},
   "outputs": [
    {
     "name": "stdout",
     "output_type": "stream",
     "text": [
      "```plaintext\n",
      "[DCA] Monday 3:25PM - 4:50PM: random_0, random_39, random_40, random_51, random_47;\n",
      "[DCA] Wednesday 3:25PM - 4:50PM: random_3, random_17, random_19, random_44, random_58;\n",
      "[Montera] Thursday 3:25PM - 5:40PM: random_11, random_14, random_21, random_49, random_53;\n",
      "[DeJean] Monday 2:40PM - 4:20PM: random_18, random_7, random_36, random_37, random_57;\n",
      "[DeJean] Wednesday 2:40PM - 4:20PM: random_18, random_7, random_36, random_37, random_57;\n",
      "[King] Tuesday 3:00PM - 4:30PM: random_21, random_6, random_47, random_43, random_56;\n",
      "[King] Thursday 3:00PM - 4:30PM: random_21, random_6, random_47, random_43, random_56;\n",
      "[Rudsdale] Tuesday 1:35PM - 3:30PM (Spanish section): random_47, random_14;\n",
      "[Rudsdale] Thursday 1:35PM - 3:30PM (Spanish section): random_47, random_14;\n",
      "[Rudsdale] Wednesday 10:30AM - 1:00PM (Spanish section): random_52, random_14;\n",
      "[Longfellow] Monday 4:00PM - 5:30PM: random_55, random_4, random_5, random_15, random_26;\n",
      "[Longfellow] Wednesday 2:00PM - 3:30PM: random_55, random_4, random_5, random_15, random_26;\n",
      "[SquashDrive] Thursday 3:55PM - 5:35PM: random_60, random_8, random_9, random_10, random_12;\n",
      "[John Henry] Tuesday 3:30PM - 5:30PM: random_61, random_50, random_54, random_22, random_23;\n",
      "[John Henry] Thursday 3:30PM - 5:30PM: random_61, random_50, random_54, random_22, random_23;\n",
      "```\n"
     ]
    }
   ],
   "source": [
    "print(results)"
   ]
  }
 ],
 "metadata": {
  "kernelspec": {
   "display_name": "venv",
   "language": "python",
   "name": "python3"
  },
  "language_info": {
   "codemirror_mode": {
    "name": "ipython",
    "version": 3
   },
   "file_extension": ".py",
   "mimetype": "text/x-python",
   "name": "python",
   "nbconvert_exporter": "python",
   "pygments_lexer": "ipython3",
   "version": "3.10.10"
  }
 },
 "nbformat": 4,
 "nbformat_minor": 2
}
